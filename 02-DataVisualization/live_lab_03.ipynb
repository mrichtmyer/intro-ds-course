{
 "cells": [
  {
   "cell_type": "markdown",
   "metadata": {},
   "source": [
    "# Lab 3: "
   ]
  },
  {
   "cell_type": "code",
   "execution_count": 125,
   "metadata": {},
   "outputs": [],
   "source": [
    "import pandas as pd\n",
    "import numpy as np\n",
    "import matplotlib.pyplot as plt\n",
    "import seaborn as sns\n",
    "sns.set()\n",
    "from matplotlib.ticker import PercentFormatter\n",
    "\n",
    "import matplotlib.style as style\n",
    "\n",
    "pd.set_option('display.max_columns', None)\n",
    "pd.set_option('max_colwidth', None)\n",
    "\n",
    "import sqlalchemy\n",
    "from sqlalchemy import create_engine"
   ]
  },
  {
   "cell_type": "markdown",
   "metadata": {},
   "source": [
    "# SQL Basics\n",
    "\n",
    "SQL, or Structured Query Language, is a tool to manipulate and retrieve data from databases. It is commonly used in industry to store, retrieve, and clean data used in a standard data science project. \n",
    "\n",
    "We will demonstrate some basics about fetching data from a SQL database in a common data science workflow."
   ]
  },
  {
   "cell_type": "code",
   "execution_count": 72,
   "metadata": {},
   "outputs": [
    {
     "data": {
      "text/plain": [
       "53392"
      ]
     },
     "execution_count": 72,
     "metadata": {},
     "output_type": "execute_result"
    }
   ],
   "source": [
    "# first we create a connection to the SQLite database we will use\n",
    "engine = create_engine('sqlite://', echo=False)\n",
    "\n",
    "# then we fetch data currently written as a CSV. Note, we could just read these data from CSV using pandas like we did in `live_lab02.ipynb`\n",
    "df = pd.read_csv('../datasets/nutrition/Nutrition__Physical_Activity__and_Obesity_-_Behavioral_Risk_Factor_Surveillance_System.csv')\n",
    "df = df[['YearStart', 'LocationDesc', 'Question', 'Data_Value', 'Education', 'Gender', 'Income', 'Race/Ethnicity', 'StratificationID1']]\n",
    "\n",
    "# this stores the data as a SQL database within memory, so you will not see a new file added once you create this\n",
    "df.to_sql(name='nutrition', con=engine, index=False)"
   ]
  },
  {
   "cell_type": "markdown",
   "metadata": {},
   "source": [
    "One of my favorite things about SQL is that it is typically very human readable, meaning the code we write _sounds_ simple, almost as if we were trying to describe the instructions in plain English.\n",
    "\n",
    "For example:\n",
    "\n",
    "```\n",
    "select *\n",
    "from nutrition\n",
    "```\n",
    "\n",
    "At the core of the query, we need to `select` data `from` a table. In this query, we are selecting `*`, which is a hotkey abbreviation that means \"all\". This query is read like \"select all from nutrition\". If a specific column is desired, we can replace the `*` and type in the column name.\n",
    "\n",
    "The package `sqlalchemy` is a type of connector that helps us connect Python to a SQL database. We use the engine object to execute a SQL query, which allows us to retrieve data based on the SQL code."
   ]
  },
  {
   "cell_type": "code",
   "execution_count": 73,
   "metadata": {},
   "outputs": [
    {
     "data": {
      "text/html": [
       "<div>\n",
       "<style scoped>\n",
       "    .dataframe tbody tr th:only-of-type {\n",
       "        vertical-align: middle;\n",
       "    }\n",
       "\n",
       "    .dataframe tbody tr th {\n",
       "        vertical-align: top;\n",
       "    }\n",
       "\n",
       "    .dataframe thead th {\n",
       "        text-align: right;\n",
       "    }\n",
       "</style>\n",
       "<table border=\"1\" class=\"dataframe\">\n",
       "  <thead>\n",
       "    <tr style=\"text-align: right;\">\n",
       "      <th></th>\n",
       "      <th>YearStart</th>\n",
       "      <th>LocationDesc</th>\n",
       "      <th>Question</th>\n",
       "      <th>Data_Value</th>\n",
       "      <th>Education</th>\n",
       "      <th>Gender</th>\n",
       "      <th>Income</th>\n",
       "      <th>Race/Ethnicity</th>\n",
       "      <th>StratificationID1</th>\n",
       "    </tr>\n",
       "  </thead>\n",
       "  <tbody>\n",
       "    <tr>\n",
       "      <th>0</th>\n",
       "      <td>2011</td>\n",
       "      <td>Alabama</td>\n",
       "      <td>Percent of adults aged 18 years and older who have obesity</td>\n",
       "      <td>32.0</td>\n",
       "      <td>None</td>\n",
       "      <td>None</td>\n",
       "      <td>None</td>\n",
       "      <td>None</td>\n",
       "      <td>OVERALL</td>\n",
       "    </tr>\n",
       "    <tr>\n",
       "      <th>1</th>\n",
       "      <td>2011</td>\n",
       "      <td>Alabama</td>\n",
       "      <td>Percent of adults aged 18 years and older who have obesity</td>\n",
       "      <td>32.3</td>\n",
       "      <td>None</td>\n",
       "      <td>Male</td>\n",
       "      <td>None</td>\n",
       "      <td>None</td>\n",
       "      <td>MALE</td>\n",
       "    </tr>\n",
       "    <tr>\n",
       "      <th>2</th>\n",
       "      <td>2011</td>\n",
       "      <td>Alabama</td>\n",
       "      <td>Percent of adults aged 18 years and older who have obesity</td>\n",
       "      <td>31.8</td>\n",
       "      <td>None</td>\n",
       "      <td>Female</td>\n",
       "      <td>None</td>\n",
       "      <td>None</td>\n",
       "      <td>FEMALE</td>\n",
       "    </tr>\n",
       "    <tr>\n",
       "      <th>3</th>\n",
       "      <td>2011</td>\n",
       "      <td>Alabama</td>\n",
       "      <td>Percent of adults aged 18 years and older who have obesity</td>\n",
       "      <td>33.6</td>\n",
       "      <td>Less than high school</td>\n",
       "      <td>None</td>\n",
       "      <td>None</td>\n",
       "      <td>None</td>\n",
       "      <td>EDUHS</td>\n",
       "    </tr>\n",
       "    <tr>\n",
       "      <th>4</th>\n",
       "      <td>2011</td>\n",
       "      <td>Alabama</td>\n",
       "      <td>Percent of adults aged 18 years and older who have obesity</td>\n",
       "      <td>32.8</td>\n",
       "      <td>High school graduate</td>\n",
       "      <td>None</td>\n",
       "      <td>None</td>\n",
       "      <td>None</td>\n",
       "      <td>EDUHSGRAD</td>\n",
       "    </tr>\n",
       "  </tbody>\n",
       "</table>\n",
       "</div>"
      ],
      "text/plain": [
       "   YearStart LocationDesc  \\\n",
       "0       2011      Alabama   \n",
       "1       2011      Alabama   \n",
       "2       2011      Alabama   \n",
       "3       2011      Alabama   \n",
       "4       2011      Alabama   \n",
       "\n",
       "                                                     Question  Data_Value  \\\n",
       "0  Percent of adults aged 18 years and older who have obesity        32.0   \n",
       "1  Percent of adults aged 18 years and older who have obesity        32.3   \n",
       "2  Percent of adults aged 18 years and older who have obesity        31.8   \n",
       "3  Percent of adults aged 18 years and older who have obesity        33.6   \n",
       "4  Percent of adults aged 18 years and older who have obesity        32.8   \n",
       "\n",
       "               Education  Gender Income Race/Ethnicity StratificationID1  \n",
       "0                   None    None   None           None           OVERALL  \n",
       "1                   None    Male   None           None              MALE  \n",
       "2                   None  Female   None           None            FEMALE  \n",
       "3  Less than high school    None   None           None             EDUHS  \n",
       "4   High school graduate    None   None           None         EDUHSGRAD  "
      ]
     },
     "execution_count": 73,
     "metadata": {},
     "output_type": "execute_result"
    }
   ],
   "source": [
    "data = engine.execute('select * from nutrition')\n",
    "df = pd.DataFrame(data)\n",
    "df.head()"
   ]
  },
  {
   "cell_type": "markdown",
   "metadata": {},
   "source": [
    "Other common SQL commands are `where` and `group by` statements. \n",
    "\n",
    "`where` statements allow us to add a filter to the query that only returns data when that filter condition is true. \n",
    "\n",
    "For example:\n",
    "\n",
    "```\n",
    "select *\n",
    "from nutrition\n",
    "where locationdesc = 'New Jersey'\n",
    "```\n",
    "\n",
    "This statement will grab all data from our nutrition table, if the `locationdesc` column is equal to 'Alabama'. Let's try it out."
   ]
  },
  {
   "cell_type": "code",
   "execution_count": 129,
   "metadata": {},
   "outputs": [
    {
     "data": {
      "text/html": [
       "<div>\n",
       "<style scoped>\n",
       "    .dataframe tbody tr th:only-of-type {\n",
       "        vertical-align: middle;\n",
       "    }\n",
       "\n",
       "    .dataframe tbody tr th {\n",
       "        vertical-align: top;\n",
       "    }\n",
       "\n",
       "    .dataframe thead th {\n",
       "        text-align: right;\n",
       "    }\n",
       "</style>\n",
       "<table border=\"1\" class=\"dataframe\">\n",
       "  <thead>\n",
       "    <tr style=\"text-align: right;\">\n",
       "      <th></th>\n",
       "      <th>YearStart</th>\n",
       "      <th>LocationDesc</th>\n",
       "      <th>Question</th>\n",
       "      <th>Data_Value</th>\n",
       "      <th>Education</th>\n",
       "      <th>Gender</th>\n",
       "      <th>Income</th>\n",
       "      <th>Race/Ethnicity</th>\n",
       "      <th>StratificationID1</th>\n",
       "    </tr>\n",
       "  </thead>\n",
       "  <tbody>\n",
       "    <tr>\n",
       "      <th>0</th>\n",
       "      <td>2011</td>\n",
       "      <td>New Jersey</td>\n",
       "      <td>Percent of adults aged 18 years and older who have obesity</td>\n",
       "      <td>23.7</td>\n",
       "      <td>None</td>\n",
       "      <td>None</td>\n",
       "      <td>None</td>\n",
       "      <td>None</td>\n",
       "      <td>OVERALL</td>\n",
       "    </tr>\n",
       "    <tr>\n",
       "      <th>1</th>\n",
       "      <td>2011</td>\n",
       "      <td>New Jersey</td>\n",
       "      <td>Percent of adults aged 18 years and older who have obesity</td>\n",
       "      <td>25.6</td>\n",
       "      <td>None</td>\n",
       "      <td>Male</td>\n",
       "      <td>None</td>\n",
       "      <td>None</td>\n",
       "      <td>MALE</td>\n",
       "    </tr>\n",
       "    <tr>\n",
       "      <th>2</th>\n",
       "      <td>2011</td>\n",
       "      <td>New Jersey</td>\n",
       "      <td>Percent of adults aged 18 years and older who have obesity</td>\n",
       "      <td>21.8</td>\n",
       "      <td>None</td>\n",
       "      <td>Female</td>\n",
       "      <td>None</td>\n",
       "      <td>None</td>\n",
       "      <td>FEMALE</td>\n",
       "    </tr>\n",
       "    <tr>\n",
       "      <th>3</th>\n",
       "      <td>2011</td>\n",
       "      <td>New Jersey</td>\n",
       "      <td>Percent of adults aged 18 years and older who have obesity</td>\n",
       "      <td>29.4</td>\n",
       "      <td>Less than high school</td>\n",
       "      <td>None</td>\n",
       "      <td>None</td>\n",
       "      <td>None</td>\n",
       "      <td>EDUHS</td>\n",
       "    </tr>\n",
       "    <tr>\n",
       "      <th>4</th>\n",
       "      <td>2011</td>\n",
       "      <td>New Jersey</td>\n",
       "      <td>Percent of adults aged 18 years and older who have obesity</td>\n",
       "      <td>26.9</td>\n",
       "      <td>High school graduate</td>\n",
       "      <td>None</td>\n",
       "      <td>None</td>\n",
       "      <td>None</td>\n",
       "      <td>EDUHSGRAD</td>\n",
       "    </tr>\n",
       "  </tbody>\n",
       "</table>\n",
       "</div>"
      ],
      "text/plain": [
       "   YearStart LocationDesc  \\\n",
       "0       2011   New Jersey   \n",
       "1       2011   New Jersey   \n",
       "2       2011   New Jersey   \n",
       "3       2011   New Jersey   \n",
       "4       2011   New Jersey   \n",
       "\n",
       "                                                     Question  Data_Value  \\\n",
       "0  Percent of adults aged 18 years and older who have obesity        23.7   \n",
       "1  Percent of adults aged 18 years and older who have obesity        25.6   \n",
       "2  Percent of adults aged 18 years and older who have obesity        21.8   \n",
       "3  Percent of adults aged 18 years and older who have obesity        29.4   \n",
       "4  Percent of adults aged 18 years and older who have obesity        26.9   \n",
       "\n",
       "               Education  Gender Income Race/Ethnicity StratificationID1  \n",
       "0                   None    None   None           None           OVERALL  \n",
       "1                   None    Male   None           None              MALE  \n",
       "2                   None  Female   None           None            FEMALE  \n",
       "3  Less than high school    None   None           None             EDUHS  \n",
       "4   High school graduate    None   None           None         EDUHSGRAD  "
      ]
     },
     "execution_count": 129,
     "metadata": {},
     "output_type": "execute_result"
    }
   ],
   "source": [
    "# notice here we're using a trick in Python to let use the `\\` symbol \n",
    "# to write code across multiple lines so that it's easier to read. \n",
    "sql = \\\n",
    "    '''\n",
    "    select * \n",
    "    from nutrition\n",
    "    where locationdesc = \"New Jersey\"\n",
    "    '''\n",
    "\n",
    "data = engine.execute(sql)\n",
    "df = pd.DataFrame(data)\n",
    "df.head()"
   ]
  },
  {
   "cell_type": "code",
   "execution_count": 132,
   "metadata": {},
   "outputs": [
    {
     "data": {
      "text/html": [
       "<div>\n",
       "<style scoped>\n",
       "    .dataframe tbody tr th:only-of-type {\n",
       "        vertical-align: middle;\n",
       "    }\n",
       "\n",
       "    .dataframe tbody tr th {\n",
       "        vertical-align: top;\n",
       "    }\n",
       "\n",
       "    .dataframe thead th {\n",
       "        text-align: right;\n",
       "    }\n",
       "</style>\n",
       "<table border=\"1\" class=\"dataframe\">\n",
       "  <thead>\n",
       "    <tr style=\"text-align: right;\">\n",
       "      <th>Question</th>\n",
       "      <th>Percent of adults aged 18 years and older who have an overweight classification</th>\n",
       "      <th>Percent of adults aged 18 years and older who have obesity</th>\n",
       "      <th>Percent of adults who achieve at least 150 minutes a week of moderate-intensity aerobic physical activity or 75 minutes a week of vigorous-intensity aerobic activity (or an equivalent combination)</th>\n",
       "      <th>Percent of adults who achieve at least 150 minutes a week of moderate-intensity aerobic physical activity or 75 minutes a week of vigorous-intensity aerobic physical activity and engage in muscle-strengthening activities on 2 or more days a week</th>\n",
       "      <th>Percent of adults who achieve at least 300 minutes a week of moderate-intensity aerobic physical activity or 150 minutes a week of vigorous-intensity aerobic activity (or an equivalent combination)</th>\n",
       "      <th>Percent of adults who engage in muscle-strengthening activities on 2 or more days a week</th>\n",
       "      <th>Percent of adults who engage in no leisure-time physical activity</th>\n",
       "      <th>Percent of adults who report consuming fruit less than one time daily</th>\n",
       "      <th>Percent of adults who report consuming vegetables less than one time daily</th>\n",
       "    </tr>\n",
       "    <tr>\n",
       "      <th>YearStart</th>\n",
       "      <th></th>\n",
       "      <th></th>\n",
       "      <th></th>\n",
       "      <th></th>\n",
       "      <th></th>\n",
       "      <th></th>\n",
       "      <th></th>\n",
       "      <th></th>\n",
       "      <th></th>\n",
       "    </tr>\n",
       "  </thead>\n",
       "  <tbody>\n",
       "    <tr>\n",
       "      <th>2011</th>\n",
       "      <td>37.122222</td>\n",
       "      <td>23.774074</td>\n",
       "      <td>51.911538</td>\n",
       "      <td>22.757692</td>\n",
       "      <td>32.361538</td>\n",
       "      <td>31.503846</td>\n",
       "      <td>27.723077</td>\n",
       "      <td>34.419231</td>\n",
       "      <td>23.576923</td>\n",
       "    </tr>\n",
       "    <tr>\n",
       "      <th>2012</th>\n",
       "      <td>36.522222</td>\n",
       "      <td>24.429630</td>\n",
       "      <td>NaN</td>\n",
       "      <td>NaN</td>\n",
       "      <td>NaN</td>\n",
       "      <td>NaN</td>\n",
       "      <td>26.933333</td>\n",
       "      <td>NaN</td>\n",
       "      <td>NaN</td>\n",
       "    </tr>\n",
       "    <tr>\n",
       "      <th>2013</th>\n",
       "      <td>34.825926</td>\n",
       "      <td>27.344444</td>\n",
       "      <td>47.300000</td>\n",
       "      <td>20.437037</td>\n",
       "      <td>30.414815</td>\n",
       "      <td>31.700000</td>\n",
       "      <td>29.837037</td>\n",
       "      <td>35.562963</td>\n",
       "      <td>22.125926</td>\n",
       "    </tr>\n",
       "    <tr>\n",
       "      <th>2014</th>\n",
       "      <td>36.066667</td>\n",
       "      <td>27.014815</td>\n",
       "      <td>NaN</td>\n",
       "      <td>NaN</td>\n",
       "      <td>NaN</td>\n",
       "      <td>NaN</td>\n",
       "      <td>25.937037</td>\n",
       "      <td>NaN</td>\n",
       "      <td>NaN</td>\n",
       "    </tr>\n",
       "    <tr>\n",
       "      <th>2015</th>\n",
       "      <td>36.665385</td>\n",
       "      <td>26.500000</td>\n",
       "      <td>46.857692</td>\n",
       "      <td>19.876923</td>\n",
       "      <td>28.150000</td>\n",
       "      <td>31.142308</td>\n",
       "      <td>29.296296</td>\n",
       "      <td>36.350000</td>\n",
       "      <td>22.930769</td>\n",
       "    </tr>\n",
       "    <tr>\n",
       "      <th>2016</th>\n",
       "      <td>35.528000</td>\n",
       "      <td>28.100000</td>\n",
       "      <td>NaN</td>\n",
       "      <td>NaN</td>\n",
       "      <td>NaN</td>\n",
       "      <td>NaN</td>\n",
       "      <td>31.980000</td>\n",
       "      <td>NaN</td>\n",
       "      <td>NaN</td>\n",
       "    </tr>\n",
       "  </tbody>\n",
       "</table>\n",
       "</div>"
      ],
      "text/plain": [
       "Question   Percent of adults aged 18 years and older who have an overweight classification  \\\n",
       "YearStart                                                                                    \n",
       "2011                                                                             37.122222   \n",
       "2012                                                                             36.522222   \n",
       "2013                                                                             34.825926   \n",
       "2014                                                                             36.066667   \n",
       "2015                                                                             36.665385   \n",
       "2016                                                                             35.528000   \n",
       "\n",
       "Question   Percent of adults aged 18 years and older who have obesity  \\\n",
       "YearStart                                                               \n",
       "2011                                                        23.774074   \n",
       "2012                                                        24.429630   \n",
       "2013                                                        27.344444   \n",
       "2014                                                        27.014815   \n",
       "2015                                                        26.500000   \n",
       "2016                                                        28.100000   \n",
       "\n",
       "Question   Percent of adults who achieve at least 150 minutes a week of moderate-intensity aerobic physical activity or 75 minutes a week of vigorous-intensity aerobic activity (or an equivalent combination)  \\\n",
       "YearStart                                                                                                                                                                                                         \n",
       "2011                                                                                                                                                                                                  51.911538   \n",
       "2012                                                                                                                                                                                                        NaN   \n",
       "2013                                                                                                                                                                                                  47.300000   \n",
       "2014                                                                                                                                                                                                        NaN   \n",
       "2015                                                                                                                                                                                                  46.857692   \n",
       "2016                                                                                                                                                                                                        NaN   \n",
       "\n",
       "Question   Percent of adults who achieve at least 150 minutes a week of moderate-intensity aerobic physical activity or 75 minutes a week of vigorous-intensity aerobic physical activity and engage in muscle-strengthening activities on 2 or more days a week  \\\n",
       "YearStart                                                                                                                                                                                                                                                          \n",
       "2011                                                                                                                                                                                                                                                   22.757692   \n",
       "2012                                                                                                                                                                                                                                                         NaN   \n",
       "2013                                                                                                                                                                                                                                                   20.437037   \n",
       "2014                                                                                                                                                                                                                                                         NaN   \n",
       "2015                                                                                                                                                                                                                                                   19.876923   \n",
       "2016                                                                                                                                                                                                                                                         NaN   \n",
       "\n",
       "Question   Percent of adults who achieve at least 300 minutes a week of moderate-intensity aerobic physical activity or 150 minutes a week of vigorous-intensity aerobic activity (or an equivalent combination)  \\\n",
       "YearStart                                                                                                                                                                                                          \n",
       "2011                                                                                                                                                                                                   32.361538   \n",
       "2012                                                                                                                                                                                                         NaN   \n",
       "2013                                                                                                                                                                                                   30.414815   \n",
       "2014                                                                                                                                                                                                         NaN   \n",
       "2015                                                                                                                                                                                                   28.150000   \n",
       "2016                                                                                                                                                                                                         NaN   \n",
       "\n",
       "Question   Percent of adults who engage in muscle-strengthening activities on 2 or more days a week  \\\n",
       "YearStart                                                                                             \n",
       "2011                                                                                      31.503846   \n",
       "2012                                                                                            NaN   \n",
       "2013                                                                                      31.700000   \n",
       "2014                                                                                            NaN   \n",
       "2015                                                                                      31.142308   \n",
       "2016                                                                                            NaN   \n",
       "\n",
       "Question   Percent of adults who engage in no leisure-time physical activity  \\\n",
       "YearStart                                                                      \n",
       "2011                                                               27.723077   \n",
       "2012                                                               26.933333   \n",
       "2013                                                               29.837037   \n",
       "2014                                                               25.937037   \n",
       "2015                                                               29.296296   \n",
       "2016                                                               31.980000   \n",
       "\n",
       "Question   Percent of adults who report consuming fruit less than one time daily  \\\n",
       "YearStart                                                                          \n",
       "2011                                                                   34.419231   \n",
       "2012                                                                         NaN   \n",
       "2013                                                                   35.562963   \n",
       "2014                                                                         NaN   \n",
       "2015                                                                   36.350000   \n",
       "2016                                                                         NaN   \n",
       "\n",
       "Question   Percent of adults who report consuming vegetables less than one time daily  \n",
       "YearStart                                                                              \n",
       "2011                                                                        23.576923  \n",
       "2012                                                                              NaN  \n",
       "2013                                                                        22.125926  \n",
       "2014                                                                              NaN  \n",
       "2015                                                                        22.930769  \n",
       "2016                                                                              NaN  "
      ]
     },
     "execution_count": 132,
     "metadata": {},
     "output_type": "execute_result"
    }
   ],
   "source": [
    "# use for multiple regressors\n",
    "pt = pd.pivot_table(data=df, index='YearStart', columns='Question', values='Data_Value', aggfunc='mean')\n",
    "pt"
   ]
  },
  {
   "cell_type": "code",
   "execution_count": 126,
   "metadata": {},
   "outputs": [],
   "source": [
    "# here we define a helper function to \n",
    "def get_data_from_question(question: str, \n",
    "                           engine: sqlalchemy.engine.base.Engine) -> pd.DataFrame:\n",
    "    \"\"\"\n",
    "    Helper function to fetch data from the nutrition table given a query question\n",
    "\n",
    "    Inputs:\n",
    "    * `question`: a string object with the question to be queried\n",
    "    * `engine` is a SQLAlchemy engine object with a connection to the SQLite database\n",
    "\n",
    "    Returns a pandas DataFrame object with the response\n",
    "    \"\"\"\n",
    "\n",
    "    # grab obesity data - f strings are used here to help automate the SQL query\n",
    "    sql = \\\n",
    "        f'''\n",
    "        select * \n",
    "        from nutrition\n",
    "        where locationdesc = \"National\"\n",
    "        and stratificationid1 = \"OVERALL\"\n",
    "        and question = \"{question}\"\n",
    "\n",
    "        order by yearstart asc\n",
    "        '''\n",
    "\n",
    "    data = engine.execute(sql)\n",
    "    data = pd.DataFrame(data)\n",
    "\n",
    "    return data"
   ]
  },
  {
   "cell_type": "code",
   "execution_count": 137,
   "metadata": {},
   "outputs": [
    {
     "data": {
      "text/plain": [
       "Text(0.5, 1.0, 'National Obesity Rates')"
      ]
     },
     "execution_count": 137,
     "metadata": {},
     "output_type": "execute_result"
    },
    {
     "data": {
      "image/png": "[encoded data removed]",
      "text/plain": [
       "<Figure size 600x400 with 1 Axes>"
      ]
     },
     "metadata": {},
     "output_type": "display_data"
    }
   ],
   "source": [
    "# grab obesity data\n",
    "question = \"Percent of adults aged 18 years and older who have obesity\"\n",
    "obesity = get_data_from_question(question=question, engine=engine)\n",
    "\n",
    "# grab overweight data\n",
    "question = \"Percent of adults aged 18 years and older who have an overweight classification\"\n",
    "overweight = get_data_from_question(question=question, engine=engine)\n",
    "\n",
    "\n",
    "# create a plot of the national obesity rates over time\n",
    "fig, ax = plt.subplots(figsize=(6,4))\n",
    "obesity.plot(x='YearStart', y='Data_Value', ax=ax, kind='scatter', label='Obesity')\n",
    "overweight.plot(x='YearStart', y='Data_Value', ax=ax, kind='scatter', label='Overweight', color='g')\n",
    "\n",
    "ax.set_xlabel('Year')\n",
    "ax.set_ylabel('Percentage')\n",
    "ax.set_title('National Obesity Rates', fontsize=12, weight='bold')\n"
   ]
  },
  {
   "cell_type": "markdown",
   "metadata": {},
   "source": []
  },
  {
   "cell_type": "code",
   "execution_count": 142,
   "metadata": {},
   "outputs": [
    {
     "data": {
      "text/html": [
       "<div>\n",
       "<style scoped>\n",
       "    .dataframe tbody tr th:only-of-type {\n",
       "        vertical-align: middle;\n",
       "    }\n",
       "\n",
       "    .dataframe tbody tr th {\n",
       "        vertical-align: top;\n",
       "    }\n",
       "\n",
       "    .dataframe thead th {\n",
       "        text-align: right;\n",
       "    }\n",
       "</style>\n",
       "<table border=\"1\" class=\"dataframe\">\n",
       "  <thead>\n",
       "    <tr style=\"text-align: right;\">\n",
       "      <th></th>\n",
       "      <th>YearStart</th>\n",
       "      <th>Data_Value</th>\n",
       "    </tr>\n",
       "  </thead>\n",
       "  <tbody>\n",
       "    <tr>\n",
       "      <th>0</th>\n",
       "      <td>2011</td>\n",
       "      <td>27.4</td>\n",
       "    </tr>\n",
       "    <tr>\n",
       "      <th>1</th>\n",
       "      <td>2012</td>\n",
       "      <td>27.7</td>\n",
       "    </tr>\n",
       "    <tr>\n",
       "      <th>2</th>\n",
       "      <td>2013</td>\n",
       "      <td>28.3</td>\n",
       "    </tr>\n",
       "    <tr>\n",
       "      <th>3</th>\n",
       "      <td>2014</td>\n",
       "      <td>28.9</td>\n",
       "    </tr>\n",
       "    <tr>\n",
       "      <th>4</th>\n",
       "      <td>2015</td>\n",
       "      <td>28.9</td>\n",
       "    </tr>\n",
       "    <tr>\n",
       "      <th>5</th>\n",
       "      <td>2016</td>\n",
       "      <td>29.6</td>\n",
       "    </tr>\n",
       "  </tbody>\n",
       "</table>\n",
       "</div>"
      ],
      "text/plain": [
       "   YearStart  Data_Value\n",
       "0       2011        27.4\n",
       "1       2012        27.7\n",
       "2       2013        28.3\n",
       "3       2014        28.9\n",
       "4       2015        28.9\n",
       "5       2016        29.6"
      ]
     },
     "execution_count": 142,
     "metadata": {},
     "output_type": "execute_result"
    }
   ],
   "source": [
    "question = \"Percent of adults aged 18 years and older who have obesity\"\n",
    "obesity = get_data_from_question(question=question, engine=engine)\n",
    "obesity[['YearStart' ,'Data_Value']]"
   ]
  },
  {
   "cell_type": "code",
   "execution_count": 149,
   "metadata": {},
   "outputs": [],
   "source": [
    "from sklearn.linear_model import LinearRegression\n",
    "\n",
    "X=pd.DataFrame(obesity['YearStart'])\n",
    "y = obesity['Data_Value']\n",
    "reg = LinearRegression().fit(X=X, y=y)"
   ]
  },
  {
   "cell_type": "code",
   "execution_count": 150,
   "metadata": {},
   "outputs": [
    {
     "data": {
      "text/plain": [
       "0.9669642857142743"
      ]
     },
     "execution_count": 150,
     "metadata": {},
     "output_type": "execute_result"
    }
   ],
   "source": [
    "reg.score(X, y)"
   ]
  },
  {
   "cell_type": "code",
   "execution_count": 153,
   "metadata": {},
   "outputs": [
    {
     "data": {
      "text/plain": [
       "(array([0.43428571]), -845.9676190476197)"
      ]
     },
     "execution_count": 153,
     "metadata": {},
     "output_type": "execute_result"
    }
   ],
   "source": [
    "reg.coef_, reg.intercept_"
   ]
  },
  {
   "cell_type": "code",
   "execution_count": 157,
   "metadata": {},
   "outputs": [
    {
     "data": {
      "text/plain": [
       "array([29.98666667, 30.42095238, 30.8552381 ])"
      ]
     },
     "execution_count": 157,
     "metadata": {},
     "output_type": "execute_result"
    }
   ],
   "source": [
    "future = pd.DataFrame({'YearStart': [2017, 2018, 2019]})\n",
    "reg.predict(future)"
   ]
  },
  {
   "cell_type": "code",
   "execution_count": null,
   "metadata": {},
   "outputs": [],
   "source": []
  },
  {
   "cell_type": "code",
   "execution_count": null,
   "metadata": {},
   "outputs": [],
   "source": []
  },
  {
   "cell_type": "code",
   "execution_count": null,
   "metadata": {},
   "outputs": [],
   "source": []
  },
  {
   "cell_type": "code",
   "execution_count": null,
   "metadata": {},
   "outputs": [],
   "source": []
  },
  {
   "cell_type": "code",
   "execution_count": null,
   "metadata": {},
   "outputs": [],
   "source": []
  },
  {
   "cell_type": "code",
   "execution_count": 24,
   "metadata": {},
   "outputs": [
    {
     "data": {
      "text/plain": [
       "array(['Percent of adults aged 18 years and older who have obesity',\n",
       "       'Percent of adults aged 18 years and older who have an overweight classification',\n",
       "       'Percent of adults who report consuming fruit less than one time daily',\n",
       "       'Percent of adults who report consuming vegetables less than one time daily',\n",
       "       'Percent of adults who engage in muscle-strengthening activities on 2 or more days a week',\n",
       "       'Percent of adults who achieve at least 150 minutes a week of moderate-intensity aerobic physical activity or 75 minutes a week of vigorous-intensity aerobic activity (or an equivalent combination)',\n",
       "       'Percent of adults who achieve at least 150 minutes a week of moderate-intensity aerobic physical activity or 75 minutes a week of vigorous-intensity aerobic physical activity and engage in muscle-strengthening activities on 2 or more days a week',\n",
       "       'Percent of adults who achieve at least 300 minutes a week of moderate-intensity aerobic physical activity or 150 minutes a week of vigorous-intensity aerobic activity (or an equivalent combination)',\n",
       "       'Percent of adults who engage in no leisure-time physical activity'],\n",
       "      dtype=object)"
      ]
     },
     "execution_count": 24,
     "metadata": {},
     "output_type": "execute_result"
    }
   ],
   "source": [
    "df['Question'].unique()"
   ]
  },
  {
   "cell_type": "code",
   "execution_count": 35,
   "metadata": {},
   "outputs": [
    {
     "data": {
      "text/plain": [
       "array(['OVERALL', 'MALE', 'FEMALE', 'EDUHS', 'EDUHSGRAD', 'EDUCOTEC',\n",
       "       'EDUCOGRAD', 'AGEYR1824', 'AGEYR2534', 'AGEYR3544', 'AGEYR4554',\n",
       "       'AGEYR5564', 'AGEYR65PLUS', 'INCLESS15', 'INC1525', 'INC2535',\n",
       "       'INC3550', 'INC5075', 'INC75PLUS', 'INCNR', 'RACEWHT', 'RACEBLK',\n",
       "       'RACEHIS', 'RACEASN', 'RACEHPI', 'RACENAA', 'RACE2PLUS', 'RACEOTH'],\n",
       "      dtype=object)"
      ]
     },
     "execution_count": 35,
     "metadata": {},
     "output_type": "execute_result"
    }
   ],
   "source": [
    "df['StratificationID1'].unique()"
   ]
  },
  {
   "cell_type": "code",
   "execution_count": null,
   "metadata": {},
   "outputs": [],
   "source": []
  }
 ],
 "metadata": {
  "interpreter": {
   "hash": "33f90770a5f097eaffc446ed591e4c167587dae6cc475538814641db20a02734"
  },
  "kernelspec": {
   "display_name": "Python 3.8.0 ('ds_course')",
   "language": "python",
   "name": "python3"
  },
  "language_info": {
   "codemirror_mode": {
    "name": "ipython",
    "version": 3
   },
   "file_extension": ".py",
   "mimetype": "text/x-python",
   "name": "python",
   "nbconvert_exporter": "python",
   "pygments_lexer": "ipython3",
   "version": "3.8.0"
  },
  "orig_nbformat": 4
 },
 "nbformat": 4,
 "nbformat_minor": 2
}
